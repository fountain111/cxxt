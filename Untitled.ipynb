{
 "cells": [
  {
   "cell_type": "code",
   "execution_count": 1,
   "metadata": {},
   "outputs": [
    {
     "name": "stdout",
     "output_type": "stream",
     "text": [
      "<class 'pandas.core.frame.DataFrame'>\n",
      "RangeIndex: 29942 entries, 0 to 29941\n",
      "Data columns (total 16 columns):\n",
      "lab                     29942 non-null int64\n",
      "en                      29942 non-null object\n",
      "ex                      29942 non-null object\n",
      "vehicle_class           29942 non-null int64\n",
      "turn_around             29942 non-null int64\n",
      "strange_marks           29942 non-null int64\n",
      "lost_marks              29942 non-null int64\n",
      "over_weight             29942 non-null int64\n",
      "light_weight            29942 non-null int64\n",
      "over_delay              29942 non-null int64\n",
      "axis_number             29942 non-null int64\n",
      "fee_length              29942 non-null float64\n",
      "weight                  29942 non-null float64\n",
      "over_weight_original    29942 non-null float64\n",
      "cost_time               29942 non-null object\n",
      "speed                   29942 non-null object\n",
      "dtypes: float64(3), int64(9), object(4)\n",
      "memory usage: 3.7+ MB\n",
      "None\n"
     ]
    }
   ],
   "source": [
    "from model import *\n",
    "import pandas as pd\n",
    "df = pd.read_csv('./samples.txt',#nrows=1000,\n",
    "                 names=(['lab','en','ex','vehicle_class','turn_around','strange_marks','lost_marks',\n",
    "                         'over_weight','light_weight','over_delay','axis_number','fee_length','weight','over_weight_original',\n",
    "                         'cost_time',\n",
    "                         'speed']\n",
    "                       \n",
    "                       ))\n",
    "\n",
    "#[lab,record['C_EN_VEHICLE_CLASS'],record['C_EX_VEHICLE_CLASS'],turn_around,strange_marks,lost_marks,over_weight,light_weight,over_delay,record['axis_number'],\n",
    "#                        fee_length,weight,over_weight_original,cost_time,speed]\n",
    "print(df.info())\n",
    "\n",
    "#model = Model()\n",
    "#model.model(df)\n"
   ]
  },
  {
   "cell_type": "code",
   "execution_count": 20,
   "metadata": {},
   "outputs": [
    {
     "data": {
      "text/plain": [
       "<pandas.core.groupby.SeriesGroupBy object at 0x11c29ba90>"
      ]
     },
     "execution_count": 20,
     "metadata": {},
     "output_type": "execute_result"
    }
   ],
   "source": [
    "df.groupby('ex')['ex']"
   ]
  },
  {
   "cell_type": "code",
   "execution_count": 10,
   "metadata": {},
   "outputs": [
    {
     "data": {
      "text/plain": [
       "0.20242468772961059"
      ]
     },
     "execution_count": 10,
     "metadata": {},
     "output_type": "execute_result"
    }
   ],
   "source": [
    "sum(df.lost_marks)/df.shape[0]"
   ]
  },
  {
   "cell_type": "code",
   "execution_count": null,
   "metadata": {
    "collapsed": true
   },
   "outputs": [],
   "source": []
  }
 ],
 "metadata": {
  "kernelspec": {
   "display_name": "Python 3",
   "language": "python",
   "name": "python3"
  },
  "language_info": {
   "codemirror_mode": {
    "name": "ipython",
    "version": 3
   },
   "file_extension": ".py",
   "mimetype": "text/x-python",
   "name": "python",
   "nbconvert_exporter": "python",
   "pygments_lexer": "ipython3",
   "version": "3.5.4"
  }
 },
 "nbformat": 4,
 "nbformat_minor": 2
}
